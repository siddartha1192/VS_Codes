{
 "cells": [
  {
   "cell_type": "code",
   "execution_count": null,
   "id": "cfd2e262",
   "metadata": {},
   "outputs": [],
   "source": [
    "# Simple test code for demonstration\n",
    "\n",
    "def add(a, b):\n",
    "    return a + b\n",
    "\n",
    "def test_add():\n",
    "    assert add(2, 3) == 5\n",
    "    assert add(-1, 1) == 0\n",
    "    print(\"All tests passed.\")\n",
    "\n",
    "test_add()"
   ]
  }
 ],
 "metadata": {
  "language_info": {
   "name": "python"
  }
 },
 "nbformat": 4,
 "nbformat_minor": 5
}
